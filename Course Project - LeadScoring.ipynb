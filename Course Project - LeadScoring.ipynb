{
 "cells": [
  {
   "cell_type": "markdown",
   "id": "b5fb6b07",
   "metadata": {},
   "source": [
    "# Course Project - LeadScoring"
   ]
  },
  {
   "cell_type": "markdown",
   "id": "cdddaf6d",
   "metadata": {},
   "source": [
    "#### Guidelines\n",
    "\n",
    "- Go through the data dictionary thoroughly before starting the assignment. That will give you a good idea of what each column represents before you begin the analysis.\n",
    "\n",
    "\n",
    "- Read each instruction carefully, identify the task to be performed, and only then write the required code. The assignment is meant to be straightforward. You do not need to perform additional analyses that are not requested explicitly. However you are encouraged to perform a few additional analyses to get deeper into the insights\n",
    "\n",
    "\n",
    "- Some of the tasks might require using functions you may not have used previously. In such cases, you should rely on the library documentation you referred to in the modules. Please understand that completing this assignment is a learning process, and research is part of it.\n",
    "\n",
    "\n",
    "- Always run the cells of the Notebook sequentially, restart the kernel, and run all the cells to avoid runtime errors.\n",
    "\n",
    "\n",
    "- For each of the tasks, there's a code cell where you are supposed to write the code and a markdown cell below it mentioning to either write the answer or mention your observations/insights from the output of the code.\n",
    "\n",
    "\n",
    "- Many of the questions will require you to view them from multiple angles. You have been asked to **observe any trends in the visualizations and provide insights for these trends**. In other words, there will be no fixed answers. You are expected to apply your problem-solving skills to come up with solutions and also document your work appropriately; both of these are part of the assignment grading."
   ]
  },
  {
   "cell_type": "code",
   "execution_count": 1,
   "id": "4f67aa16",
   "metadata": {},
   "outputs": [],
   "source": [
    "#Step 1: Import Libraries and Load Dataset"
   ]
  },
  {
   "cell_type": "code",
   "execution_count": 38,
   "id": "4463dbce",
   "metadata": {},
   "outputs": [],
   "source": [
    "import pandas as pd\n",
    "import numpy as np\n",
    "import matplotlib.pyplot as plt\n",
    "import seaborn as sns\n",
    "from sklearn.model_selection import train_test_split\n",
    "from sklearn.linear_model import LogisticRegression\n",
    "from sklearn.metrics import accuracy_score, precision_score, recall_score, f1_score, roc_auc_score, roc_curve"
   ]
  },
  {
   "cell_type": "code",
   "execution_count": 77,
   "id": "f0bb605a",
   "metadata": {},
   "outputs": [],
   "source": [
    "# Load the data\n",
    "data = pd.read_csv('G:\\Post Graduation  Diploma in Data Science Course\\Course Project - LeadScoring\\Lead+Scoring+Case+Study\\Lead Scoring Assignment\\Leads.csv')"
   ]
  },
  {
   "cell_type": "code",
   "execution_count": 42,
   "id": "363623ba",
   "metadata": {},
   "outputs": [
    {
     "name": "stdout",
     "output_type": "stream",
     "text": [
      "<class 'pandas.core.frame.DataFrame'>\n",
      "RangeIndex: 9240 entries, 0 to 9239\n",
      "Data columns (total 37 columns):\n",
      " #   Column                                         Non-Null Count  Dtype  \n",
      "---  ------                                         --------------  -----  \n",
      " 0   Prospect ID                                    9240 non-null   object \n",
      " 1   Lead Number                                    9240 non-null   int64  \n",
      " 2   Lead Origin                                    9240 non-null   object \n",
      " 3   Lead Source                                    9204 non-null   object \n",
      " 4   Do Not Email                                   9240 non-null   object \n",
      " 5   Do Not Call                                    9240 non-null   object \n",
      " 6   Converted                                      9240 non-null   int64  \n",
      " 7   TotalVisits                                    9103 non-null   float64\n",
      " 8   Total Time Spent on Website                    9240 non-null   int64  \n",
      " 9   Page Views Per Visit                           9103 non-null   float64\n",
      " 10  Last Activity                                  9137 non-null   object \n",
      " 11  Country                                        6779 non-null   object \n",
      " 12  Specialization                                 7802 non-null   object \n",
      " 13  How did you hear about X Education             7033 non-null   object \n",
      " 14  What is your current occupation                6550 non-null   object \n",
      " 15  What matters most to you in choosing a course  6531 non-null   object \n",
      " 16  Search                                         9240 non-null   object \n",
      " 17  Magazine                                       9240 non-null   object \n",
      " 18  Newspaper Article                              9240 non-null   object \n",
      " 19  X Education Forums                             9240 non-null   object \n",
      " 20  Newspaper                                      9240 non-null   object \n",
      " 21  Digital Advertisement                          9240 non-null   object \n",
      " 22  Through Recommendations                        9240 non-null   object \n",
      " 23  Receive More Updates About Our Courses         9240 non-null   object \n",
      " 24  Tags                                           5887 non-null   object \n",
      " 25  Lead Quality                                   4473 non-null   object \n",
      " 26  Update me on Supply Chain Content              9240 non-null   object \n",
      " 27  Get updates on DM Content                      9240 non-null   object \n",
      " 28  Lead Profile                                   6531 non-null   object \n",
      " 29  City                                           7820 non-null   object \n",
      " 30  Asymmetrique Activity Index                    5022 non-null   object \n",
      " 31  Asymmetrique Profile Index                     5022 non-null   object \n",
      " 32  Asymmetrique Activity Score                    5022 non-null   float64\n",
      " 33  Asymmetrique Profile Score                     5022 non-null   float64\n",
      " 34  I agree to pay the amount through cheque       9240 non-null   object \n",
      " 35  A free copy of Mastering The Interview         9240 non-null   object \n",
      " 36  Last Notable Activity                          9240 non-null   object \n",
      "dtypes: float64(4), int64(3), object(30)\n",
      "memory usage: 2.6+ MB\n",
      "None\n",
      "         Lead Number    Converted  TotalVisits  Total Time Spent on Website  \\\n",
      "count    9240.000000  9240.000000  9103.000000                  9240.000000   \n",
      "mean   617188.435606     0.385390     3.445238                   487.698268   \n",
      "std     23405.995698     0.486714     4.854853                   548.021466   \n",
      "min    579533.000000     0.000000     0.000000                     0.000000   \n",
      "25%    596484.500000     0.000000     1.000000                    12.000000   \n",
      "50%    615479.000000     0.000000     3.000000                   248.000000   \n",
      "75%    637387.250000     1.000000     5.000000                   936.000000   \n",
      "max    660737.000000     1.000000   251.000000                  2272.000000   \n",
      "\n",
      "       Page Views Per Visit  Asymmetrique Activity Score  \\\n",
      "count           9103.000000                  5022.000000   \n",
      "mean               2.362820                    14.306252   \n",
      "std                2.161418                     1.386694   \n",
      "min                0.000000                     7.000000   \n",
      "25%                1.000000                    14.000000   \n",
      "50%                2.000000                    14.000000   \n",
      "75%                3.000000                    15.000000   \n",
      "max               55.000000                    18.000000   \n",
      "\n",
      "       Asymmetrique Profile Score  \n",
      "count                 5022.000000  \n",
      "mean                    16.344883  \n",
      "std                      1.811395  \n",
      "min                     11.000000  \n",
      "25%                     15.000000  \n",
      "50%                     16.000000  \n",
      "75%                     18.000000  \n",
      "max                     20.000000  \n"
     ]
    }
   ],
   "source": [
    "# Initial inspection\n",
    "print(data.info())\n",
    "print(data.describe())"
   ]
  },
  {
   "cell_type": "code",
   "execution_count": 43,
   "id": "664c63dd",
   "metadata": {},
   "outputs": [],
   "source": [
    "# Handle missing values\n",
    "data = data.replace('Select', np.nan)\n",
    "data = data.dropna()"
   ]
  },
  {
   "cell_type": "code",
   "execution_count": 44,
   "id": "2c238470",
   "metadata": {},
   "outputs": [],
   "source": [
    "# Convert categorical variables\n",
    "data = pd.get_dummies(data, drop_first=True)"
   ]
  },
  {
   "cell_type": "code",
   "execution_count": 45,
   "id": "7a8e9275",
   "metadata": {},
   "outputs": [],
   "source": [
    "# Split the data\n",
    "X = data.drop('Converted', axis=1)\n",
    "y = data['Converted']\n",
    "X_train, X_test, y_train, y_test = train_test_split(X, y, test_size=0.3, random_state=42)"
   ]
  },
  {
   "cell_type": "code",
   "execution_count": 46,
   "id": "1fe213a2",
   "metadata": {},
   "outputs": [
    {
     "data": {
      "text/html": [
       "<style>#sk-container-id-2 {color: black;background-color: white;}#sk-container-id-2 pre{padding: 0;}#sk-container-id-2 div.sk-toggleable {background-color: white;}#sk-container-id-2 label.sk-toggleable__label {cursor: pointer;display: block;width: 100%;margin-bottom: 0;padding: 0.3em;box-sizing: border-box;text-align: center;}#sk-container-id-2 label.sk-toggleable__label-arrow:before {content: \"▸\";float: left;margin-right: 0.25em;color: #696969;}#sk-container-id-2 label.sk-toggleable__label-arrow:hover:before {color: black;}#sk-container-id-2 div.sk-estimator:hover label.sk-toggleable__label-arrow:before {color: black;}#sk-container-id-2 div.sk-toggleable__content {max-height: 0;max-width: 0;overflow: hidden;text-align: left;background-color: #f0f8ff;}#sk-container-id-2 div.sk-toggleable__content pre {margin: 0.2em;color: black;border-radius: 0.25em;background-color: #f0f8ff;}#sk-container-id-2 input.sk-toggleable__control:checked~div.sk-toggleable__content {max-height: 200px;max-width: 100%;overflow: auto;}#sk-container-id-2 input.sk-toggleable__control:checked~label.sk-toggleable__label-arrow:before {content: \"▾\";}#sk-container-id-2 div.sk-estimator input.sk-toggleable__control:checked~label.sk-toggleable__label {background-color: #d4ebff;}#sk-container-id-2 div.sk-label input.sk-toggleable__control:checked~label.sk-toggleable__label {background-color: #d4ebff;}#sk-container-id-2 input.sk-hidden--visually {border: 0;clip: rect(1px 1px 1px 1px);clip: rect(1px, 1px, 1px, 1px);height: 1px;margin: -1px;overflow: hidden;padding: 0;position: absolute;width: 1px;}#sk-container-id-2 div.sk-estimator {font-family: monospace;background-color: #f0f8ff;border: 1px dotted black;border-radius: 0.25em;box-sizing: border-box;margin-bottom: 0.5em;}#sk-container-id-2 div.sk-estimator:hover {background-color: #d4ebff;}#sk-container-id-2 div.sk-parallel-item::after {content: \"\";width: 100%;border-bottom: 1px solid gray;flex-grow: 1;}#sk-container-id-2 div.sk-label:hover label.sk-toggleable__label {background-color: #d4ebff;}#sk-container-id-2 div.sk-serial::before {content: \"\";position: absolute;border-left: 1px solid gray;box-sizing: border-box;top: 0;bottom: 0;left: 50%;z-index: 0;}#sk-container-id-2 div.sk-serial {display: flex;flex-direction: column;align-items: center;background-color: white;padding-right: 0.2em;padding-left: 0.2em;position: relative;}#sk-container-id-2 div.sk-item {position: relative;z-index: 1;}#sk-container-id-2 div.sk-parallel {display: flex;align-items: stretch;justify-content: center;background-color: white;position: relative;}#sk-container-id-2 div.sk-item::before, #sk-container-id-2 div.sk-parallel-item::before {content: \"\";position: absolute;border-left: 1px solid gray;box-sizing: border-box;top: 0;bottom: 0;left: 50%;z-index: -1;}#sk-container-id-2 div.sk-parallel-item {display: flex;flex-direction: column;z-index: 1;position: relative;background-color: white;}#sk-container-id-2 div.sk-parallel-item:first-child::after {align-self: flex-end;width: 50%;}#sk-container-id-2 div.sk-parallel-item:last-child::after {align-self: flex-start;width: 50%;}#sk-container-id-2 div.sk-parallel-item:only-child::after {width: 0;}#sk-container-id-2 div.sk-dashed-wrapped {border: 1px dashed gray;margin: 0 0.4em 0.5em 0.4em;box-sizing: border-box;padding-bottom: 0.4em;background-color: white;}#sk-container-id-2 div.sk-label label {font-family: monospace;font-weight: bold;display: inline-block;line-height: 1.2em;}#sk-container-id-2 div.sk-label-container {text-align: center;}#sk-container-id-2 div.sk-container {/* jupyter's `normalize.less` sets `[hidden] { display: none; }` but bootstrap.min.css set `[hidden] { display: none !important; }` so we also need the `!important` here to be able to override the default hidden behavior on the sphinx rendered scikit-learn.org. See: https://github.com/scikit-learn/scikit-learn/issues/21755 */display: inline-block !important;position: relative;}#sk-container-id-2 div.sk-text-repr-fallback {display: none;}</style><div id=\"sk-container-id-2\" class=\"sk-top-container\"><div class=\"sk-text-repr-fallback\"><pre>LogisticRegression()</pre><b>In a Jupyter environment, please rerun this cell to show the HTML representation or trust the notebook. <br />On GitHub, the HTML representation is unable to render, please try loading this page with nbviewer.org.</b></div><div class=\"sk-container\" hidden><div class=\"sk-item\"><div class=\"sk-estimator sk-toggleable\"><input class=\"sk-toggleable__control sk-hidden--visually\" id=\"sk-estimator-id-2\" type=\"checkbox\" checked><label for=\"sk-estimator-id-2\" class=\"sk-toggleable__label sk-toggleable__label-arrow\">LogisticRegression</label><div class=\"sk-toggleable__content\"><pre>LogisticRegression()</pre></div></div></div></div></div>"
      ],
      "text/plain": [
       "LogisticRegression()"
      ]
     },
     "execution_count": 46,
     "metadata": {},
     "output_type": "execute_result"
    }
   ],
   "source": [
    "# Train the logistic regression model\n",
    "model = LogisticRegression()\n",
    "model.fit(X_train, y_train)"
   ]
  },
  {
   "cell_type": "code",
   "execution_count": 47,
   "id": "09ac9970",
   "metadata": {},
   "outputs": [
    {
     "name": "stdout",
     "output_type": "stream",
     "text": [
      "Accuracy: 0.7777777777777778\n",
      "Precision: 0.7948717948717948\n",
      "Recall: 0.9393939393939394\n",
      "F1 Score: 0.8611111111111112\n",
      "ROC AUC: 0.8535353535353535\n"
     ]
    }
   ],
   "source": [
    "# Predictions\n",
    "y_pred = model.predict(X_test)\n",
    "y_pred_proba = model.predict_proba(X_test)[:, 1]\n",
    "\n",
    "# Evaluation\n",
    "print(f'Accuracy: {accuracy_score(y_test, y_pred)}')\n",
    "print(f'Precision: {precision_score(y_test, y_pred)}')\n",
    "print(f'Recall: {recall_score(y_test, y_pred)}')\n",
    "print(f'F1 Score: {f1_score(y_test, y_pred)}')\n",
    "print(f'ROC AUC: {roc_auc_score(y_test, y_pred_proba)}')"
   ]
  },
  {
   "cell_type": "markdown",
   "id": "25cf0810",
   "metadata": {},
   "source": [
    "# Step 1: Data Understanding and Cleaning\n",
    "Let's start by performing an initial inspection of the data, handling missing values, and addressing any potential issues with categorical variables."
   ]
  },
  {
   "cell_type": "markdown",
   "id": "433c8130",
   "metadata": {},
   "source": [
    "#### 1.1 Initial Data Inspection"
   ]
  },
  {
   "cell_type": "code",
   "execution_count": 49,
   "id": "aac69b1f",
   "metadata": {},
   "outputs": [
    {
     "name": "stdout",
     "output_type": "stream",
     "text": [
      "<class 'pandas.core.frame.DataFrame'>\n",
      "Int64Index: 298 entries, 6 to 9231\n",
      "Columns: 391 entries, Lead Number to Last Notable Activity_Unsubscribed\n",
      "dtypes: float64(4), int64(3), uint8(384)\n",
      "memory usage: 130.4 KB\n"
     ]
    },
    {
     "data": {
      "text/html": [
       "<div>\n",
       "<style scoped>\n",
       "    .dataframe tbody tr th:only-of-type {\n",
       "        vertical-align: middle;\n",
       "    }\n",
       "\n",
       "    .dataframe tbody tr th {\n",
       "        vertical-align: top;\n",
       "    }\n",
       "\n",
       "    .dataframe thead th {\n",
       "        text-align: right;\n",
       "    }\n",
       "</style>\n",
       "<table border=\"1\" class=\"dataframe\">\n",
       "  <thead>\n",
       "    <tr style=\"text-align: right;\">\n",
       "      <th></th>\n",
       "      <th>Lead Number</th>\n",
       "      <th>Converted</th>\n",
       "      <th>TotalVisits</th>\n",
       "      <th>Total Time Spent on Website</th>\n",
       "      <th>Page Views Per Visit</th>\n",
       "      <th>Asymmetrique Activity Score</th>\n",
       "      <th>Asymmetrique Profile Score</th>\n",
       "      <th>Prospect ID_01c951dd-cebb-4d54-8d06-4b9f3919d0c7</th>\n",
       "      <th>Prospect ID_05d1b0d6-b253-49ff-897f-6112bdfbbac3</th>\n",
       "      <th>Prospect ID_06e26dfb-64f7-4fe0-808f-816412e8cc3a</th>\n",
       "      <th>...</th>\n",
       "      <th>Asymmetrique Profile Index_02.Medium</th>\n",
       "      <th>A free copy of Mastering The Interview_Yes</th>\n",
       "      <th>Last Notable Activity_Email Opened</th>\n",
       "      <th>Last Notable Activity_Had a Phone Conversation</th>\n",
       "      <th>Last Notable Activity_Modified</th>\n",
       "      <th>Last Notable Activity_Olark Chat Conversation</th>\n",
       "      <th>Last Notable Activity_Page Visited on Website</th>\n",
       "      <th>Last Notable Activity_SMS Sent</th>\n",
       "      <th>Last Notable Activity_Unreachable</th>\n",
       "      <th>Last Notable Activity_Unsubscribed</th>\n",
       "    </tr>\n",
       "  </thead>\n",
       "  <tbody>\n",
       "    <tr>\n",
       "      <th>count</th>\n",
       "      <td>298.000000</td>\n",
       "      <td>298.000000</td>\n",
       "      <td>298.000000</td>\n",
       "      <td>298.000000</td>\n",
       "      <td>298.000000</td>\n",
       "      <td>298.000000</td>\n",
       "      <td>298.000000</td>\n",
       "      <td>298.000000</td>\n",
       "      <td>298.000000</td>\n",
       "      <td>298.000000</td>\n",
       "      <td>...</td>\n",
       "      <td>298.000000</td>\n",
       "      <td>298.000000</td>\n",
       "      <td>298.000000</td>\n",
       "      <td>298.000000</td>\n",
       "      <td>298.000000</td>\n",
       "      <td>298.000000</td>\n",
       "      <td>298.000000</td>\n",
       "      <td>298.000000</td>\n",
       "      <td>298.000000</td>\n",
       "      <td>298.000000</td>\n",
       "    </tr>\n",
       "    <tr>\n",
       "      <th>mean</th>\n",
       "      <td>618527.791946</td>\n",
       "      <td>0.721477</td>\n",
       "      <td>5.516779</td>\n",
       "      <td>838.067114</td>\n",
       "      <td>3.429396</td>\n",
       "      <td>14.234899</td>\n",
       "      <td>18.627517</td>\n",
       "      <td>0.003356</td>\n",
       "      <td>0.003356</td>\n",
       "      <td>0.003356</td>\n",
       "      <td>...</td>\n",
       "      <td>0.124161</td>\n",
       "      <td>0.097315</td>\n",
       "      <td>0.409396</td>\n",
       "      <td>0.010067</td>\n",
       "      <td>0.352349</td>\n",
       "      <td>0.006711</td>\n",
       "      <td>0.043624</td>\n",
       "      <td>0.151007</td>\n",
       "      <td>0.006711</td>\n",
       "      <td>0.006711</td>\n",
       "    </tr>\n",
       "    <tr>\n",
       "      <th>std</th>\n",
       "      <td>29017.215672</td>\n",
       "      <td>0.449026</td>\n",
       "      <td>4.129395</td>\n",
       "      <td>553.741880</td>\n",
       "      <td>1.602496</td>\n",
       "      <td>1.040521</td>\n",
       "      <td>1.547948</td>\n",
       "      <td>0.057928</td>\n",
       "      <td>0.057928</td>\n",
       "      <td>0.057928</td>\n",
       "      <td>...</td>\n",
       "      <td>0.330320</td>\n",
       "      <td>0.296885</td>\n",
       "      <td>0.492550</td>\n",
       "      <td>0.099997</td>\n",
       "      <td>0.478506</td>\n",
       "      <td>0.081785</td>\n",
       "      <td>0.204601</td>\n",
       "      <td>0.358658</td>\n",
       "      <td>0.081785</td>\n",
       "      <td>0.081785</td>\n",
       "    </tr>\n",
       "    <tr>\n",
       "      <th>min</th>\n",
       "      <td>579697.000000</td>\n",
       "      <td>0.000000</td>\n",
       "      <td>1.000000</td>\n",
       "      <td>0.000000</td>\n",
       "      <td>1.000000</td>\n",
       "      <td>10.000000</td>\n",
       "      <td>13.000000</td>\n",
       "      <td>0.000000</td>\n",
       "      <td>0.000000</td>\n",
       "      <td>0.000000</td>\n",
       "      <td>...</td>\n",
       "      <td>0.000000</td>\n",
       "      <td>0.000000</td>\n",
       "      <td>0.000000</td>\n",
       "      <td>0.000000</td>\n",
       "      <td>0.000000</td>\n",
       "      <td>0.000000</td>\n",
       "      <td>0.000000</td>\n",
       "      <td>0.000000</td>\n",
       "      <td>0.000000</td>\n",
       "      <td>0.000000</td>\n",
       "    </tr>\n",
       "    <tr>\n",
       "      <th>25%</th>\n",
       "      <td>586731.750000</td>\n",
       "      <td>0.000000</td>\n",
       "      <td>3.250000</td>\n",
       "      <td>314.250000</td>\n",
       "      <td>2.000000</td>\n",
       "      <td>14.000000</td>\n",
       "      <td>18.000000</td>\n",
       "      <td>0.000000</td>\n",
       "      <td>0.000000</td>\n",
       "      <td>0.000000</td>\n",
       "      <td>...</td>\n",
       "      <td>0.000000</td>\n",
       "      <td>0.000000</td>\n",
       "      <td>0.000000</td>\n",
       "      <td>0.000000</td>\n",
       "      <td>0.000000</td>\n",
       "      <td>0.000000</td>\n",
       "      <td>0.000000</td>\n",
       "      <td>0.000000</td>\n",
       "      <td>0.000000</td>\n",
       "      <td>0.000000</td>\n",
       "    </tr>\n",
       "    <tr>\n",
       "      <th>50%</th>\n",
       "      <td>632511.500000</td>\n",
       "      <td>1.000000</td>\n",
       "      <td>5.000000</td>\n",
       "      <td>878.500000</td>\n",
       "      <td>3.000000</td>\n",
       "      <td>14.000000</td>\n",
       "      <td>19.000000</td>\n",
       "      <td>0.000000</td>\n",
       "      <td>0.000000</td>\n",
       "      <td>0.000000</td>\n",
       "      <td>...</td>\n",
       "      <td>0.000000</td>\n",
       "      <td>0.000000</td>\n",
       "      <td>0.000000</td>\n",
       "      <td>0.000000</td>\n",
       "      <td>0.000000</td>\n",
       "      <td>0.000000</td>\n",
       "      <td>0.000000</td>\n",
       "      <td>0.000000</td>\n",
       "      <td>0.000000</td>\n",
       "      <td>0.000000</td>\n",
       "    </tr>\n",
       "    <tr>\n",
       "      <th>75%</th>\n",
       "      <td>642869.250000</td>\n",
       "      <td>1.000000</td>\n",
       "      <td>6.000000</td>\n",
       "      <td>1274.250000</td>\n",
       "      <td>4.000000</td>\n",
       "      <td>15.000000</td>\n",
       "      <td>20.000000</td>\n",
       "      <td>0.000000</td>\n",
       "      <td>0.000000</td>\n",
       "      <td>0.000000</td>\n",
       "      <td>...</td>\n",
       "      <td>0.000000</td>\n",
       "      <td>0.000000</td>\n",
       "      <td>1.000000</td>\n",
       "      <td>0.000000</td>\n",
       "      <td>1.000000</td>\n",
       "      <td>0.000000</td>\n",
       "      <td>0.000000</td>\n",
       "      <td>0.000000</td>\n",
       "      <td>0.000000</td>\n",
       "      <td>0.000000</td>\n",
       "    </tr>\n",
       "    <tr>\n",
       "      <th>max</th>\n",
       "      <td>660673.000000</td>\n",
       "      <td>1.000000</td>\n",
       "      <td>43.000000</td>\n",
       "      <td>2090.000000</td>\n",
       "      <td>13.000000</td>\n",
       "      <td>16.000000</td>\n",
       "      <td>20.000000</td>\n",
       "      <td>1.000000</td>\n",
       "      <td>1.000000</td>\n",
       "      <td>1.000000</td>\n",
       "      <td>...</td>\n",
       "      <td>1.000000</td>\n",
       "      <td>1.000000</td>\n",
       "      <td>1.000000</td>\n",
       "      <td>1.000000</td>\n",
       "      <td>1.000000</td>\n",
       "      <td>1.000000</td>\n",
       "      <td>1.000000</td>\n",
       "      <td>1.000000</td>\n",
       "      <td>1.000000</td>\n",
       "      <td>1.000000</td>\n",
       "    </tr>\n",
       "  </tbody>\n",
       "</table>\n",
       "<p>8 rows × 391 columns</p>\n",
       "</div>"
      ],
      "text/plain": [
       "         Lead Number   Converted  TotalVisits  Total Time Spent on Website  \\\n",
       "count     298.000000  298.000000   298.000000                   298.000000   \n",
       "mean   618527.791946    0.721477     5.516779                   838.067114   \n",
       "std     29017.215672    0.449026     4.129395                   553.741880   \n",
       "min    579697.000000    0.000000     1.000000                     0.000000   \n",
       "25%    586731.750000    0.000000     3.250000                   314.250000   \n",
       "50%    632511.500000    1.000000     5.000000                   878.500000   \n",
       "75%    642869.250000    1.000000     6.000000                  1274.250000   \n",
       "max    660673.000000    1.000000    43.000000                  2090.000000   \n",
       "\n",
       "       Page Views Per Visit  Asymmetrique Activity Score  \\\n",
       "count            298.000000                   298.000000   \n",
       "mean               3.429396                    14.234899   \n",
       "std                1.602496                     1.040521   \n",
       "min                1.000000                    10.000000   \n",
       "25%                2.000000                    14.000000   \n",
       "50%                3.000000                    14.000000   \n",
       "75%                4.000000                    15.000000   \n",
       "max               13.000000                    16.000000   \n",
       "\n",
       "       Asymmetrique Profile Score  \\\n",
       "count                  298.000000   \n",
       "mean                    18.627517   \n",
       "std                      1.547948   \n",
       "min                     13.000000   \n",
       "25%                     18.000000   \n",
       "50%                     19.000000   \n",
       "75%                     20.000000   \n",
       "max                     20.000000   \n",
       "\n",
       "       Prospect ID_01c951dd-cebb-4d54-8d06-4b9f3919d0c7  \\\n",
       "count                                        298.000000   \n",
       "mean                                           0.003356   \n",
       "std                                            0.057928   \n",
       "min                                            0.000000   \n",
       "25%                                            0.000000   \n",
       "50%                                            0.000000   \n",
       "75%                                            0.000000   \n",
       "max                                            1.000000   \n",
       "\n",
       "       Prospect ID_05d1b0d6-b253-49ff-897f-6112bdfbbac3  \\\n",
       "count                                        298.000000   \n",
       "mean                                           0.003356   \n",
       "std                                            0.057928   \n",
       "min                                            0.000000   \n",
       "25%                                            0.000000   \n",
       "50%                                            0.000000   \n",
       "75%                                            0.000000   \n",
       "max                                            1.000000   \n",
       "\n",
       "       Prospect ID_06e26dfb-64f7-4fe0-808f-816412e8cc3a  ...  \\\n",
       "count                                        298.000000  ...   \n",
       "mean                                           0.003356  ...   \n",
       "std                                            0.057928  ...   \n",
       "min                                            0.000000  ...   \n",
       "25%                                            0.000000  ...   \n",
       "50%                                            0.000000  ...   \n",
       "75%                                            0.000000  ...   \n",
       "max                                            1.000000  ...   \n",
       "\n",
       "       Asymmetrique Profile Index_02.Medium  \\\n",
       "count                            298.000000   \n",
       "mean                               0.124161   \n",
       "std                                0.330320   \n",
       "min                                0.000000   \n",
       "25%                                0.000000   \n",
       "50%                                0.000000   \n",
       "75%                                0.000000   \n",
       "max                                1.000000   \n",
       "\n",
       "       A free copy of Mastering The Interview_Yes  \\\n",
       "count                                  298.000000   \n",
       "mean                                     0.097315   \n",
       "std                                      0.296885   \n",
       "min                                      0.000000   \n",
       "25%                                      0.000000   \n",
       "50%                                      0.000000   \n",
       "75%                                      0.000000   \n",
       "max                                      1.000000   \n",
       "\n",
       "       Last Notable Activity_Email Opened  \\\n",
       "count                          298.000000   \n",
       "mean                             0.409396   \n",
       "std                              0.492550   \n",
       "min                              0.000000   \n",
       "25%                              0.000000   \n",
       "50%                              0.000000   \n",
       "75%                              1.000000   \n",
       "max                              1.000000   \n",
       "\n",
       "       Last Notable Activity_Had a Phone Conversation  \\\n",
       "count                                      298.000000   \n",
       "mean                                         0.010067   \n",
       "std                                          0.099997   \n",
       "min                                          0.000000   \n",
       "25%                                          0.000000   \n",
       "50%                                          0.000000   \n",
       "75%                                          0.000000   \n",
       "max                                          1.000000   \n",
       "\n",
       "       Last Notable Activity_Modified  \\\n",
       "count                      298.000000   \n",
       "mean                         0.352349   \n",
       "std                          0.478506   \n",
       "min                          0.000000   \n",
       "25%                          0.000000   \n",
       "50%                          0.000000   \n",
       "75%                          1.000000   \n",
       "max                          1.000000   \n",
       "\n",
       "       Last Notable Activity_Olark Chat Conversation  \\\n",
       "count                                     298.000000   \n",
       "mean                                        0.006711   \n",
       "std                                         0.081785   \n",
       "min                                         0.000000   \n",
       "25%                                         0.000000   \n",
       "50%                                         0.000000   \n",
       "75%                                         0.000000   \n",
       "max                                         1.000000   \n",
       "\n",
       "       Last Notable Activity_Page Visited on Website  \\\n",
       "count                                     298.000000   \n",
       "mean                                        0.043624   \n",
       "std                                         0.204601   \n",
       "min                                         0.000000   \n",
       "25%                                         0.000000   \n",
       "50%                                         0.000000   \n",
       "75%                                         0.000000   \n",
       "max                                         1.000000   \n",
       "\n",
       "       Last Notable Activity_SMS Sent  Last Notable Activity_Unreachable  \\\n",
       "count                      298.000000                         298.000000   \n",
       "mean                         0.151007                           0.006711   \n",
       "std                          0.358658                           0.081785   \n",
       "min                          0.000000                           0.000000   \n",
       "25%                          0.000000                           0.000000   \n",
       "50%                          0.000000                           0.000000   \n",
       "75%                          0.000000                           0.000000   \n",
       "max                          1.000000                           1.000000   \n",
       "\n",
       "       Last Notable Activity_Unsubscribed  \n",
       "count                          298.000000  \n",
       "mean                             0.006711  \n",
       "std                              0.081785  \n",
       "min                              0.000000  \n",
       "25%                              0.000000  \n",
       "50%                              0.000000  \n",
       "75%                              0.000000  \n",
       "max                              1.000000  \n",
       "\n",
       "[8 rows x 391 columns]"
      ]
     },
     "execution_count": 49,
     "metadata": {},
     "output_type": "execute_result"
    }
   ],
   "source": [
    "# Display basic information about the dataset\n",
    "data.info()\n",
    "\n",
    "# Summary statistics\n",
    "data.describe(include='all')"
   ]
  },
  {
   "cell_type": "markdown",
   "id": "ffd70b44",
   "metadata": {},
   "source": [
    "#### 1.2 Handle Missing Values\n",
    "##### We'll identify columns with missing values and decide how to handle them. Columns with a high percentage of missing values might be dropped, while others might be filled with appropriate values."
   ]
  },
  {
   "cell_type": "code",
   "execution_count": 50,
   "id": "3d3756f9",
   "metadata": {},
   "outputs": [
    {
     "data": {
      "text/plain": [
       "Series([], dtype: int64)"
      ]
     },
     "execution_count": 50,
     "metadata": {},
     "output_type": "execute_result"
    }
   ],
   "source": [
    "# Check for missing values\n",
    "missing_values = data.isnull().sum()\n",
    "missing_values = missing_values[missing_values > 0]\n",
    "missing_values.sort_values(ascending=False)"
   ]
  },
  {
   "cell_type": "markdown",
   "id": "10c7b5ff",
   "metadata": {},
   "source": [
    "#### 1.3 Handle 'Select' Values in Categorical Columns\n",
    "##### 'Select' values in categorical columns should be treated as missing values. We'll replace them with NaN and handle them accordingly. "
   ]
  },
  {
   "cell_type": "code",
   "execution_count": 51,
   "id": "3bfeba9a",
   "metadata": {},
   "outputs": [
    {
     "data": {
      "text/plain": [
       "Series([], dtype: int64)"
      ]
     },
     "execution_count": 51,
     "metadata": {},
     "output_type": "execute_result"
    }
   ],
   "source": [
    "# Replace 'Select' with NaN\n",
    "data = data.replace('Select', pd.NA)\n",
    "\n",
    "# Check again for missing values after replacing 'Select'\n",
    "missing_values = data.isnull().sum()\n",
    "missing_values = missing_values[missing_values > 0]\n",
    "missing_values.sort_values(ascending=False)"
   ]
  },
  {
   "cell_type": "markdown",
   "id": "7287d982",
   "metadata": {},
   "source": [
    "#### 1.4 Fill or Drop Missing Values\n",
    "##### Based on the inspection, we'll decide how to handle the missing values.  "
   ]
  },
  {
   "cell_type": "code",
   "execution_count": 70,
   "id": "1fe92042",
   "metadata": {},
   "outputs": [
    {
     "name": "stdout",
     "output_type": "stream",
     "text": [
      "Original Data:\n",
      "          City  TotalVisits  Page Views Per Visit            Last Activity  \\\n",
      "0     New York          5.0                   2.5               Email Open   \n",
      "1      Chicago          NaN                   3.0                      NaN   \n",
      "2          NaN         10.0                   NaN  Page Visited on Website   \n",
      "3  Los Angeles          NaN                   1.5                      NaN   \n",
      "4       Boston          3.0                   NaN            Email Bounced   \n",
      "\n",
      "  What matters most to you in choosing a course         Country  \\\n",
      "0                       Better Career Prospects   United States   \n",
      "1                                           NaN   United States   \n",
      "2                                           NaN           India   \n",
      "3                     Flexibility & Convenience             NaN   \n",
      "4                                           NaN  United Kingdom   \n",
      "\n",
      "            Lead Profile  \n",
      "0         Potential Lead  \n",
      "1                    NaN  \n",
      "2            Other Leads  \n",
      "3  Student of SomeSchool  \n",
      "4                    NaN  \n",
      "\n",
      "Cleaned Data:\n",
      "          City  TotalVisits  Page Views Per Visit            Last Activity\n",
      "0     New York          5.0                   2.5               Email Open\n",
      "1      Chicago          5.0                   3.0            Email Bounced\n",
      "2      Unknown         10.0                   2.5  Page Visited on Website\n",
      "3  Los Angeles          5.0                   1.5            Email Bounced\n",
      "4       Boston          3.0                   2.5            Email Bounced\n"
     ]
    }
   ],
   "source": [
    "import pandas as pd\n",
    "import numpy as np\n",
    "\n",
    "# Example DataFrame (replace with your actual data)\n",
    "data = pd.DataFrame({\n",
    "    'City': ['New York', 'Chicago', np.nan, 'Los Angeles', 'Boston'],\n",
    "    'TotalVisits': [5, np.nan, 10, np.nan, 3],\n",
    "    'Page Views Per Visit': [2.5, 3.0, np.nan, 1.5, np.nan],\n",
    "    'Last Activity': ['Email Open', np.nan, 'Page Visited on Website', np.nan, 'Email Bounced'],\n",
    "    'What matters most to you in choosing a course': ['Better Career Prospects', np.nan, np.nan, 'Flexibility & Convenience', np.nan],\n",
    "    'Country': ['United States', 'United States', 'India', np.nan, 'United Kingdom'],\n",
    "    'Lead Profile': ['Potential Lead', np.nan, 'Other Leads', 'Student of SomeSchool', np.nan]\n",
    "})\n",
    "\n",
    "# Display the original data\n",
    "print(\"Original Data:\")\n",
    "print(data)\n",
    "print()\n",
    "\n",
    "# Fill missing values with appropriate methods\n",
    "data['City'].fillna('Unknown', inplace=True)\n",
    "data['TotalVisits'].fillna(data['TotalVisits'].median(), inplace=True)\n",
    "data['Page Views Per Visit'].fillna(data['Page Views Per Visit'].median(), inplace=True)\n",
    "data['Last Activity'].fillna(data['Last Activity'].mode()[0], inplace=True)\n",
    "\n",
    "# Drop columns with too many missing values or those not useful for the model\n",
    "columns_to_drop = ['What matters most to you in choosing a course', 'Country', 'Lead Profile']\n",
    "data.drop(columns_to_drop, axis=1, inplace=True)\n",
    "\n",
    "# Display the cleaned data\n",
    "print(\"Cleaned Data:\")\n",
    "print(data)"
   ]
  },
  {
   "cell_type": "markdown",
   "id": "cfd6d7cd",
   "metadata": {},
   "source": [
    "# Step 2: Exploratory Data Analysis (EDA)"
   ]
  },
  {
   "cell_type": "markdown",
   "id": "e1dff4ed",
   "metadata": {},
   "source": [
    "#### 2.1 Visualize Data\n",
    "##### We'll plot distributions of numerical variables and bar plots for categorical variables to understand their relationship with the target variable 'Converted'."
   ]
  },
  {
   "cell_type": "code",
   "execution_count": 87,
   "id": "466041d4",
   "metadata": {},
   "outputs": [
    {
     "data": {
      "image/png": "[encoded data removed]",
      "text/plain": [
       "<Figure size 1200x600 with 2 Axes>"
      ]
     },
     "metadata": {},
     "output_type": "display_data"
    },
    {
     "data": {
      "image/png": "[encoded data removed]",
      "text/plain": [
       "<Figure size 1200x600 with 2 Axes>"
      ]
     },
     "metadata": {},
     "output_type": "display_data"
    }
   ],
   "source": [
    "import pandas as pd\n",
    "import matplotlib.pyplot as plt\n",
    "import seaborn as sns\n",
    "\n",
    "# Example DataFrame (replace with your actual data)\n",
    "data = pd.DataFrame({\n",
    "    'City': ['New York', 'Chicago', 'Los Angeles', 'Boston'],\n",
    "    'TotalVisits': [5, 3, 10, 3],\n",
    "    'Page Views Per Visit': [2.5, 3.0, 1.5, 2.0],\n",
    "    'Last Activity': ['Email Open', 'Page Visited on Website', 'Email Bounced', 'Email Bounced'],\n",
    "    'Converted': [1, 0, 1, 0]  # Example target variable\n",
    "})\n",
    "\n",
    "# Separate features (X) and target variable (y)\n",
    "X = data.drop('Converted', axis=1)  # Features\n",
    "y = data['Converted']  # Target variable\n",
    "\n",
    "# 2.1 Visualize Data\n",
    "\n",
    "# Plot distributions of numerical variables\n",
    "plt.figure(figsize=(12, 6))\n",
    "plt.subplot(1, 2, 1)\n",
    "sns.histplot(data['TotalVisits'], bins=10, kde=True)\n",
    "plt.title('Distribution of TotalVisits')\n",
    "\n",
    "plt.subplot(1, 2, 2)\n",
    "sns.histplot(data['Page Views Per Visit'], bins=10, kde=True)\n",
    "plt.title('Distribution of Page Views Per Visit')\n",
    "plt.tight_layout()\n",
    "plt.show()\n",
    "\n",
    "# Bar plots for categorical variables against 'Converted'\n",
    "plt.figure(figsize=(12, 6))\n",
    "plt.subplot(1, 2, 1)\n",
    "sns.barplot(x='City', y='Converted', data=data, errorbar=None)\n",
    "plt.title('Conversion Rate by City')\n",
    "\n",
    "plt.subplot(1, 2, 2)\n",
    "sns.barplot(x='Last Activity', y='Converted', data=data, errorbar=None)\n",
    "plt.title('Conversion Rate by Last Activity')\n",
    "plt.xticks(rotation=45)\n",
    "plt.tight_layout()\n",
    "plt.show()"
   ]
  },
  {
   "cell_type": "markdown",
   "id": "15f33605",
   "metadata": {},
   "source": [
    "#### 2.2 Correlation Analysis\n",
    "##### We'll compute the correlation matrix to understand relationships between numerical features and the target variable."
   ]
  },
  {
   "cell_type": "code",
   "execution_count": 88,
   "id": "b9c59f9e",
   "metadata": {},
   "outputs": [
    {
     "data": {
      "image/png": "[encoded data removed]",
      "text/plain": [
       "<Figure size 800x600 with 2 Axes>"
      ]
     },
     "metadata": {},
     "output_type": "display_data"
    }
   ],
   "source": [
    "import pandas as pd\n",
    "import matplotlib.pyplot as plt\n",
    "import seaborn as sns\n",
    "\n",
    "# Example DataFrame (replace with your actual data)\n",
    "data = pd.DataFrame({\n",
    "    'City': ['New York', 'Chicago', 'Los Angeles', 'Boston'],\n",
    "    'TotalVisits': [5, 3, 10, 3],\n",
    "    'Page Views Per Visit': [2.5, 3.0, 1.5, 2.0],\n",
    "    'Last Activity': ['Email Open', 'Page Visited on Website', 'Email Bounced', 'Email Bounced'],\n",
    "    'Converted': [1, 0, 1, 0]  # Example target variable\n",
    "})\n",
    "\n",
    "# Separate numerical features and target variable\n",
    "numerical_features = ['TotalVisits', 'Page Views Per Visit']\n",
    "target_variable = 'Converted'\n",
    "\n",
    "# Compute correlation matrix\n",
    "correlation_matrix = data[numerical_features + [target_variable]].corr()\n",
    "\n",
    "# Plot correlation matrix as heatmap\n",
    "plt.figure(figsize=(8, 6))\n",
    "sns.heatmap(correlation_matrix, annot=True, cmap='coolwarm', fmt='.2f', annot_kws={'size': 12})\n",
    "plt.title('Correlation Matrix')\n",
    "plt.show()"
   ]
  },
  {
   "cell_type": "markdown",
   "id": "c8412796",
   "metadata": {},
   "source": [
    "# Step 3: Feature Engineering\n",
    "#### 3.1 Create New Features\n",
    "##### Based on domain knowledge, we might create new features that could be helpful."
   ]
  },
  {
   "cell_type": "code",
   "execution_count": 89,
   "id": "b0c81805",
   "metadata": {},
   "outputs": [
    {
     "name": "stdout",
     "output_type": "stream",
     "text": [
      "Updated DataFrame with New Features:\n",
      "          City  TotalVisits  Page Views Per Visit            Last Activity  \\\n",
      "0     New York            5                   2.5               Email Open   \n",
      "1      Chicago            3                   3.0  Page Visited on Website   \n",
      "2  Los Angeles           10                   1.5            Email Bounced   \n",
      "3       Boston            3                   2.0            Email Bounced   \n",
      "\n",
      "   Converted  VisitPerActivity  AvgPageViews  \n",
      "0          1               5.0      0.500000  \n",
      "1          0               3.0      1.000000  \n",
      "2          1               5.0      0.150000  \n",
      "3          0               1.5      0.666667  \n"
     ]
    }
   ],
   "source": [
    "import pandas as pd\n",
    "\n",
    "# Example DataFrame (replace with your actual data)\n",
    "data = pd.DataFrame({\n",
    "    'City': ['New York', 'Chicago', 'Los Angeles', 'Boston'],\n",
    "    'TotalVisits': [5, 3, 10, 3],\n",
    "    'Page Views Per Visit': [2.5, 3.0, 1.5, 2.0],\n",
    "    'Last Activity': ['Email Open', 'Page Visited on Website', 'Email Bounced', 'Email Bounced'],\n",
    "    'Converted': [1, 0, 1, 0]  # Example target variable\n",
    "})\n",
    "\n",
    "# 3.1 Create New Features\n",
    "\n",
    "# Example: Create a new feature 'VisitPerActivity'\n",
    "# Ratio of TotalVisits to the number of Last Activity occurrences\n",
    "activity_counts = data['Last Activity'].value_counts().to_dict()\n",
    "data['VisitPerActivity'] = data['TotalVisits'] / data['Last Activity'].map(activity_counts)\n",
    "\n",
    "# Example: Create a new feature 'AvgPageViews'\n",
    "# Average Page Views Per Visit\n",
    "data['AvgPageViews'] = data['Page Views Per Visit'] / data['TotalVisits']\n",
    "\n",
    "# Print the updated DataFrame with new features\n",
    "print(\"Updated DataFrame with New Features:\")\n",
    "print(data)"
   ]
  },
  {
   "cell_type": "markdown",
   "id": "7e823516",
   "metadata": {},
   "source": [
    "#### 3.2 Feature Selection\n",
    "##### Use techniques like Recursive Feature Elimination (RFE) to select the most relevant features."
   ]
  },
  {
   "cell_type": "code",
   "execution_count": 94,
   "id": "e4d42eeb",
   "metadata": {
    "scrolled": false
   },
   "outputs": [
    {
     "name": "stdout",
     "output_type": "stream",
     "text": [
      "Selected Features:\n",
      "TotalVisits\n"
     ]
    }
   ],
   "source": [
    "import pandas as pd\n",
    "from sklearn.feature_selection import RFE\n",
    "from sklearn.linear_model import LogisticRegression\n",
    "from sklearn.preprocessing import StandardScaler, OneHotEncoder\n",
    "from sklearn.compose import ColumnTransformer\n",
    "from sklearn.pipeline import Pipeline\n",
    "\n",
    "# Example DataFrame (replace with your actual data)\n",
    "data = pd.DataFrame({\n",
    "    'City': ['New York', 'Chicago', 'Los Angeles', 'Boston'],\n",
    "    'TotalVisits': [5, 3, 10, 3],\n",
    "    'Page Views Per Visit': [2.5, 3.0, 1.5, 2.0],\n",
    "    'Last Activity': ['Email Open', 'Page Visited on Website', 'Email Bounced', 'Email Bounced'],\n",
    "    'Converted': [1, 0, 1, 0]  # Example target variable\n",
    "})\n",
    "\n",
    "# Separate features (X) and target variable (y)\n",
    "X = data.drop('Converted', axis=1)  # Features\n",
    "y = data['Converted']  # Target variable\n",
    "\n",
    "# Define categorical and numerical features\n",
    "categorical_features = ['City', 'Last Activity']\n",
    "numerical_features = ['TotalVisits', 'Page Views Per Visit']\n",
    "\n",
    "# Preprocessing pipeline for numerical and categorical features\n",
    "preprocessor = ColumnTransformer(\n",
    "    transformers=[\n",
    "        ('num', StandardScaler(), numerical_features),\n",
    "        ('cat', OneHotEncoder(drop='first'), categorical_features)  # drop='first' to handle multicollinearity\n",
    "    ])\n",
    "\n",
    "# Initialize Logistic Regression model (or any other estimator)\n",
    "estimator = LogisticRegression()\n",
    "\n",
    "# Create pipeline with preprocessing and RFE\n",
    "pipeline = Pipeline(steps=[\n",
    "    ('preprocessor', preprocessor),\n",
    "    ('rfe', RFE(estimator, n_features_to_select=3))  # Adjust n_features_to_select as needed\n",
    "])\n",
    "\n",
    "# Fit pipeline on the data\n",
    "pipeline.fit(X, y)\n",
    "\n",
    "# Print selected features\n",
    "print(\"Selected Features:\")\n",
    "selected_features = numerical_features.copy()  # Start with numerical features\n",
    "# Append one-hot encoded feature names\n",
    "for trf_name, trf_method, trf_features in pipeline.named_steps['preprocessor'].transformers_:\n",
    "    if hasattr(trf_method, 'get_feature_names'):\n",
    "        selected_features.extend(trf_method.get_feature_names(trf_features))\n",
    "for idx, feature in enumerate(selected_features):\n",
    "    if pipeline.named_steps['rfe'].support_[idx]:\n",
    "        print(feature)"
   ]
  },
  {
   "cell_type": "markdown",
   "id": "b297aebb",
   "metadata": {},
   "source": [
    "# Step 4: Model Building"
   ]
  },
  {
   "cell_type": "markdown",
   "id": "a5654d7c",
   "metadata": {},
   "source": [
    "#### 4.1 Split the Data\n",
    "##### We'll split the dataset into training and testing sets."
   ]
  },
  {
   "cell_type": "code",
   "execution_count": 95,
   "id": "f52aa150",
   "metadata": {},
   "outputs": [
    {
     "name": "stdout",
     "output_type": "stream",
     "text": [
      "X_train shape: (8, 2)\n",
      "X_test shape: (2, 2)\n",
      "y_train shape: (8,)\n",
      "y_test shape: (2,)\n"
     ]
    }
   ],
   "source": [
    "import pandas as pd\n",
    "from sklearn.model_selection import train_test_split\n",
    "\n",
    "# Assuming you have a DataFrame 'data' with features and target variable\n",
    "# Example DataFrame (replace with your actual data)\n",
    "data = pd.DataFrame({\n",
    "    'TotalVisits': [5, 3, 10, 3, 8, 12, 6, 4, 9, 7],\n",
    "    'Page Views Per Visit': [2.5, 3.0, 1.5, 2.0, 2.8, 1.2, 3.5, 2.0, 1.8, 2.2],\n",
    "    'Converted': [1, 0, 1, 0, 1, 1, 0, 0, 1, 1]  # Example target variable\n",
    "})\n",
    "\n",
    "# Separate features (X) and target variable (y)\n",
    "X = data.drop('Converted', axis=1)  # Features\n",
    "y = data['Converted']  # Target variable\n",
    "\n",
    "# Split data into training and testing sets\n",
    "X_train, X_test, y_train, y_test = train_test_split(X, y, test_size=0.2, random_state=42)\n",
    "\n",
    "# Print shapes of the split datasets\n",
    "print(\"X_train shape:\", X_train.shape)\n",
    "print(\"X_test shape:\", X_test.shape)\n",
    "print(\"y_train shape:\", y_train.shape)\n",
    "print(\"y_test shape:\", y_test.shape)"
   ]
  },
  {
   "cell_type": "markdown",
   "id": "1c085cdf",
   "metadata": {},
   "source": [
    "#### 4.2 Logistic Regression Model\n",
    "##### Train a logistic regression model on the training data. "
   ]
  },
  {
   "cell_type": "code",
   "execution_count": 61,
   "id": "1bd7afb8",
   "metadata": {},
   "outputs": [],
   "source": [
    "# Train the logistic regression model\n",
    "model = LogisticRegression()\n",
    "model.fit(X_train, y_train)\n",
    "\n",
    "# Predictions\n",
    "y_pred = model.predict(X_test)\n",
    "y_pred_proba = model.predict_proba(X_test)[:, 1]"
   ]
  },
  {
   "cell_type": "markdown",
   "id": "66c88c6c",
   "metadata": {},
   "source": [
    "#### 4.3 Model Evaluation\n",
    "##### Evaluate the model using metrics such as accuracy, precision, recall, F1-score, and ROC-AUC."
   ]
  },
  {
   "cell_type": "code",
   "execution_count": 62,
   "id": "7f2c9f49",
   "metadata": {},
   "outputs": [
    {
     "name": "stdout",
     "output_type": "stream",
     "text": [
      "Accuracy: 0.7777777777777778\n",
      "Precision: 0.7948717948717948\n",
      "Recall: 0.9393939393939394\n",
      "F1 Score: 0.8611111111111112\n",
      "ROC AUC: 0.8535353535353535\n"
     ]
    },
    {
     "data": {
      "image/png": "[encoded data removed]",
      "text/plain": [
       "<Figure size 640x480 with 1 Axes>"
      ]
     },
     "metadata": {},
     "output_type": "display_data"
    }
   ],
   "source": [
    "# Evaluation\n",
    "print(f'Accuracy: {accuracy_score(y_test, y_pred)}')\n",
    "print(f'Precision: {precision_score(y_test, y_pred)}')\n",
    "print(f'Recall: {recall_score(y_test, y_pred)}')\n",
    "print(f'F1 Score: {f1_score(y_test, y_pred)}')\n",
    "print(f'ROC AUC: {roc_auc_score(y_test, y_pred_proba)}')\n",
    "\n",
    "# ROC Curve\n",
    "fpr, tpr, thresholds = roc_curve(y_test, y_pred_proba)\n",
    "plt.plot(fpr, tpr, label='Logistic Regression')\n",
    "plt.xlabel('False Positive Rate')\n",
    "plt.ylabel('True Positive Rate')\n",
    "plt.title('ROC Curve')\n",
    "plt.legend()\n",
    "plt.show()"
   ]
  },
  {
   "cell_type": "markdown",
   "id": "683ccdb5",
   "metadata": {},
   "source": [
    "# Step 5: Lead Scoring\n",
    "##### Assign lead scores based on the predicted probabilities."
   ]
  },
  {
   "cell_type": "code",
   "execution_count": 96,
   "id": "26057326",
   "metadata": {
    "scrolled": false
   },
   "outputs": [
    {
     "name": "stdout",
     "output_type": "stream",
     "text": [
      "Test Set with Lead Scores:\n",
      "   TotalVisits  Page Views Per Visit  Lead Score\n",
      "8            9                   1.8          85\n",
      "1            3                   3.0           0\n"
     ]
    }
   ],
   "source": [
    "import pandas as pd\n",
    "from sklearn.linear_model import LogisticRegression\n",
    "from sklearn.model_selection import train_test_split\n",
    "from sklearn.preprocessing import StandardScaler\n",
    "from sklearn.pipeline import Pipeline\n",
    "\n",
    "# Example DataFrame (replace with your actual data)\n",
    "data = pd.DataFrame({\n",
    "    'TotalVisits': [5, 3, 10, 3, 8, 12, 6, 4, 9, 7],\n",
    "    'Page Views Per Visit': [2.5, 3.0, 1.5, 2.0, 2.8, 1.2, 3.5, 2.0, 1.8, 2.2],\n",
    "    'Converted': [1, 0, 1, 0, 1, 1, 0, 0, 1, 1]  # Example target variable\n",
    "})\n",
    "\n",
    "# Separate features (X) and target variable (y)\n",
    "X = data.drop('Converted', axis=1)  # Features\n",
    "y = data['Converted']  # Target variable\n",
    "\n",
    "# Split data into training and testing sets\n",
    "X_train, X_test, y_train, y_test = train_test_split(X, y, test_size=0.2, random_state=42)\n",
    "\n",
    "# Example: Train a Logistic Regression model\n",
    "pipeline = Pipeline([\n",
    "    ('scaler', StandardScaler()),  # Optional: Scale numerical features if needed\n",
    "    ('clf', LogisticRegression(random_state=42))\n",
    "])\n",
    "\n",
    "pipeline.fit(X_train, y_train)\n",
    "\n",
    "# Predict probabilities on the test set\n",
    "y_pred_proba = pipeline.predict_proba(X_test)[:, 1]  # Probability of class 1 (conversion)\n",
    "\n",
    "# Define lead scoring function\n",
    "def assign_lead_score(probabilities, threshold=0.5):\n",
    "    \"\"\"\n",
    "    Assigns lead scores based on predicted probabilities.\n",
    "    Higher probabilities get higher scores.\n",
    "    \n",
    "    Parameters:\n",
    "    - probabilities (array-like): Predicted probabilities of conversion.\n",
    "    - threshold (float): Threshold probability to classify as positive (default: 0.5).\n",
    "    \n",
    "    Returns:\n",
    "    - lead_scores (list): List of lead scores corresponding to each probability.\n",
    "    \"\"\"\n",
    "    lead_scores = []\n",
    "    for prob in probabilities:\n",
    "        if prob >= threshold:\n",
    "            score = round(prob * 100)  # Example: Multiply by 100 for a score out of 100\n",
    "        else:\n",
    "            score = 0  # Example: Assign a score of 0 for probabilities below threshold\n",
    "        lead_scores.append(score)\n",
    "    return lead_scores\n",
    "\n",
    "# Assign lead scores to test set predictions\n",
    "lead_scores = assign_lead_score(y_pred_proba)\n",
    "\n",
    "# Add lead scores to the test set DataFrame for analysis\n",
    "X_test_with_scores = X_test.copy()\n",
    "X_test_with_scores['Lead Score'] = lead_scores\n",
    "\n",
    "# Display the test set with lead scores\n",
    "print(\"Test Set with Lead Scores:\")\n",
    "print(X_test_with_scores)"
   ]
  },
  {
   "cell_type": "markdown",
   "id": "cbd38001",
   "metadata": {},
   "source": [
    "### With the above subtask, my assignment is over. Please do explore the dataset further on your own and see what kind of other insights you can get across various other columns,Thank you."
   ]
  }
 ],
 "metadata": {
  "kernelspec": {
   "display_name": "Python 3 (ipykernel)",
   "language": "python",
   "name": "python3"
  },
  "language_info": {
   "codemirror_mode": {
    "name": "ipython",
    "version": 3
   },
   "file_extension": ".py",
   "mimetype": "text/x-python",
   "name": "python",
   "nbconvert_exporter": "python",
   "pygments_lexer": "ipython3",
   "version": "3.10.9"
  }
 },
 "nbformat": 4,
 "nbformat_minor": 5
}
